{
 "cells": [
  {
   "cell_type": "code",
   "id": "initial_id",
   "metadata": {
    "collapsed": true,
    "ExecuteTime": {
     "end_time": "2025-09-17T12:23:40.460126Z",
     "start_time": "2025-09-17T12:23:40.421276Z"
    }
   },
   "source": [
    "import torch\n",
    "import numpy as np\n",
    "from sympy import shape\n",
    "\n",
    "# 创建一个零维张量\n",
    "tensor0d = torch.tensor(1)\n",
    "# 创建一个一维张量\n",
    "tensor1d = torch.tensor([1,2,3])\n",
    "# 创建一个二维张量\n",
    "tensor2d = torch.tensor([[1,2],\n",
    "                         [3,4]])\n",
    "# 创建一个三维张量\n",
    "tensor3d = torch.tensor([[[1,2],[3,4]],\n",
    "                         [[5,6],[7,8]]])\n",
    "ary3d = np.array([[[1,2],[3,4]],\n",
    "                         [[5,6],[7,8]]])\n",
    "\n",
    "tensor3d_2 = torch.tensor(ary3d)  # 复制 NumPy 数组\n",
    "tensor3d_3 = torch.from_numpy(ary3d)   # 与 NumPy 数组共享内存\n",
    "\n",
    "print(tensor3d_2, tensor3d_3)"
   ],
   "outputs": [
    {
     "name": "stdout",
     "output_type": "stream",
     "text": [
      "tensor([[[1, 2],\n",
      "         [3, 4]],\n",
      "\n",
      "        [[5, 6],\n",
      "         [7, 8]]]) tensor([[[1, 2],\n",
      "         [3, 4]],\n",
      "\n",
      "        [[5, 6],\n",
      "         [7, 8]]])\n"
     ]
    }
   ],
   "execution_count": 3
  },
  {
   "metadata": {
    "ExecuteTime": {
     "end_time": "2025-09-17T12:23:40.475540Z",
     "start_time": "2025-09-17T12:23:40.466535Z"
    }
   },
   "cell_type": "code",
   "source": [
    "ary3d[0,0,0] = 999\n",
    "print(tensor2d)"
   ],
   "id": "4fe5e3cb5931211a",
   "outputs": [
    {
     "name": "stdout",
     "output_type": "stream",
     "text": [
      "tensor([[1, 2],\n",
      "        [3, 4]])\n"
     ]
    }
   ],
   "execution_count": 4
  },
  {
   "metadata": {
    "ExecuteTime": {
     "end_time": "2025-09-17T12:23:40.506734Z",
     "start_time": "2025-09-17T12:23:40.501741Z"
    }
   },
   "cell_type": "code",
   "source": "print(tensor3d_3)",
   "id": "a37d7da45efe6def",
   "outputs": [
    {
     "name": "stdout",
     "output_type": "stream",
     "text": [
      "tensor([[[999,   2],\n",
      "         [  3,   4]],\n",
      "\n",
      "        [[  5,   6],\n",
      "         [  7,   8]]])\n"
     ]
    }
   ],
   "execution_count": 5
  },
  {
   "metadata": {
    "ExecuteTime": {
     "end_time": "2025-09-17T12:23:40.536749Z",
     "start_time": "2025-09-17T12:23:40.525737Z"
    }
   },
   "cell_type": "code",
   "source": [
    "tensorId = torch.tensor([1,2,3])\n",
    "print(tensorId.dtype)"
   ],
   "id": "72b3ac5514767bfe",
   "outputs": [
    {
     "name": "stdout",
     "output_type": "stream",
     "text": [
      "torch.int64\n"
     ]
    }
   ],
   "execution_count": 6
  },
  {
   "metadata": {
    "ExecuteTime": {
     "end_time": "2025-09-17T12:23:40.568451Z",
     "start_time": "2025-09-17T12:23:40.557428Z"
    }
   },
   "cell_type": "code",
   "source": [
    "floatvec = torch.tensor([1.0,2.0,3.0])\n",
    "print(floatvec.dtype)"
   ],
   "id": "fd73bfcac3915fb8",
   "outputs": [
    {
     "name": "stdout",
     "output_type": "stream",
     "text": [
      "torch.float32\n"
     ]
    }
   ],
   "execution_count": 7
  },
  {
   "metadata": {
    "ExecuteTime": {
     "end_time": "2025-09-17T12:23:40.599322Z",
     "start_time": "2025-09-17T12:23:40.591212Z"
    }
   },
   "cell_type": "code",
   "source": [
    "floatvec = tensorId.to(torch.float)\n",
    "print(floatvec.dtype)"
   ],
   "id": "8cb55b527e52f17c",
   "outputs": [
    {
     "name": "stdout",
     "output_type": "stream",
     "text": [
      "torch.float32\n"
     ]
    }
   ],
   "execution_count": 8
  },
  {
   "metadata": {
    "ExecuteTime": {
     "end_time": "2025-09-17T12:24:03.188180Z",
     "start_time": "2025-09-17T12:24:03.175298Z"
    }
   },
   "cell_type": "code",
   "source": [
    "tensor2d = torch.tensor([[1,2,3],[3,4,5]])\n",
    "tensor2d"
   ],
   "id": "95932dff092c4243",
   "outputs": [
    {
     "data": {
      "text/plain": [
       "tensor([[1, 2, 3],\n",
       "        [3, 4, 5]])"
      ]
     },
     "execution_count": 11,
     "metadata": {},
     "output_type": "execute_result"
    }
   ],
   "execution_count": 11
  },
  {
   "metadata": {
    "ExecuteTime": {
     "end_time": "2025-09-17T12:24:04.965345Z",
     "start_time": "2025-09-17T12:24:04.951299Z"
    }
   },
   "cell_type": "code",
   "source": "tensor2d.shape",
   "id": "85de4c493618d092",
   "outputs": [
    {
     "data": {
      "text/plain": [
       "torch.Size([2, 3])"
      ]
     },
     "execution_count": 12,
     "metadata": {},
     "output_type": "execute_result"
    }
   ],
   "execution_count": 12
  },
  {
   "metadata": {
    "ExecuteTime": {
     "end_time": "2025-09-17T12:24:51.725550Z",
     "start_time": "2025-09-17T12:24:51.717687Z"
    }
   },
   "cell_type": "code",
   "source": "tensor2d.reshape([3,2])",
   "id": "4ffcd14f1af57581",
   "outputs": [
    {
     "data": {
      "text/plain": [
       "tensor([[1, 2],\n",
       "        [3, 3],\n",
       "        [4, 5]])"
      ]
     },
     "execution_count": 13,
     "metadata": {},
     "output_type": "execute_result"
    }
   ],
   "execution_count": 13
  },
  {
   "metadata": {
    "ExecuteTime": {
     "end_time": "2025-09-17T12:25:37.572086Z",
     "start_time": "2025-09-17T12:25:37.558352Z"
    }
   },
   "cell_type": "code",
   "source": "tensor2d.view(3,2)",
   "id": "f421cb080ddf91b5",
   "outputs": [
    {
     "data": {
      "text/plain": [
       "tensor([[1, 2],\n",
       "        [3, 3],\n",
       "        [4, 5]])"
      ]
     },
     "execution_count": 14,
     "metadata": {},
     "output_type": "execute_result"
    }
   ],
   "execution_count": 14
  },
  {
   "metadata": {
    "ExecuteTime": {
     "end_time": "2025-09-17T12:25:58.308548Z",
     "start_time": "2025-09-17T12:25:58.278682Z"
    }
   },
   "cell_type": "code",
   "source": "tensor2d.T",
   "id": "24b34f215d28c9f8",
   "outputs": [
    {
     "data": {
      "text/plain": [
       "tensor([[1, 3],\n",
       "        [2, 4],\n",
       "        [3, 5]])"
      ]
     },
     "execution_count": 15,
     "metadata": {},
     "output_type": "execute_result"
    }
   ],
   "execution_count": 15
  },
  {
   "metadata": {
    "ExecuteTime": {
     "end_time": "2025-09-17T12:31:22.821297Z",
     "start_time": "2025-09-17T12:31:22.793099Z"
    }
   },
   "cell_type": "code",
   "source": "tensor2d.matmul(tensor2d.T)",
   "id": "ebbec212fbb14d59",
   "outputs": [
    {
     "data": {
      "text/plain": [
       "tensor([[14, 26],\n",
       "        [26, 50]])"
      ]
     },
     "execution_count": 16,
     "metadata": {},
     "output_type": "execute_result"
    }
   ],
   "execution_count": 16
  },
  {
   "metadata": {
    "ExecuteTime": {
     "end_time": "2025-09-17T12:31:57.802508Z",
     "start_time": "2025-09-17T12:31:57.789987Z"
    }
   },
   "cell_type": "code",
   "source": "tensor2d @ tensor2d.T",
   "id": "c044116d50f8fca7",
   "outputs": [
    {
     "data": {
      "text/plain": [
       "tensor([[14, 26],\n",
       "        [26, 50]])"
      ]
     },
     "execution_count": 17,
     "metadata": {},
     "output_type": "execute_result"
    }
   ],
   "execution_count": 17
  },
  {
   "metadata": {
    "ExecuteTime": {
     "end_time": "2025-09-17T12:36:00.519060Z",
     "start_time": "2025-09-17T12:36:00.488530Z"
    }
   },
   "cell_type": "code",
   "source": [
    "# 将模型视为计算图\n",
    "import torch.nn.functional as F\n",
    "\n",
    "y = torch.tensor([1.0])\n",
    "x1 = torch.tensor([1.1])\n",
    "w1 = torch.tensor([2.2])\n",
    "b = torch.tensor([0.0])\n",
    "\n",
    "z = x1 * w1 + b\n",
    "a = torch.sigmoid(z)\n",
    "\n",
    "loss = F.binary_cross_entropy(a,y)\n",
    "print(loss)"
   ],
   "id": "28b9c024db460d19",
   "outputs": [
    {
     "name": "stdout",
     "output_type": "stream",
     "text": [
      "tensor(0.0852)\n"
     ]
    }
   ],
   "execution_count": 19
  },
  {
   "metadata": {
    "ExecuteTime": {
     "end_time": "2025-09-17T12:50:51.255472Z",
     "start_time": "2025-09-17T12:50:51.077915Z"
    }
   },
   "cell_type": "code",
   "source": [
    "# A.4 轻松实现自动微分\n",
    "import torch.nn.functional as F\n",
    "from torch.autograd import grad\n",
    "\n",
    "y = torch.tensor([1.0])\n",
    "x1 = torch.tensor([1.1])\n",
    "w1 = torch.tensor([2.2], requires_grad = True)\n",
    "b = torch.tensor([0.0], requires_grad = True)\n",
    "\n",
    "z = x1 * w1 + b\n",
    "a = torch.sigmoid(z)\n",
    "\n",
    "loss = F.binary_cross_entropy(a, y)\n",
    "\n",
    "gard_L_w1 = grad(loss, w1, retain_graph=True)\n",
    "grad_L_b = grad(loss, b, retain_graph=True)\n",
    "\n",
    "print(gard_L_w1)\n",
    "print(grad_L_b)"
   ],
   "id": "b718e19e2f315a9c",
   "outputs": [
    {
     "name": "stdout",
     "output_type": "stream",
     "text": [
      "(tensor([-0.0898]),)\n",
      "(tensor([-0.0817]),)\n"
     ]
    }
   ],
   "execution_count": 20
  },
  {
   "metadata": {
    "ExecuteTime": {
     "end_time": "2025-09-17T12:55:21.051347Z",
     "start_time": "2025-09-17T12:55:21.023568Z"
    }
   },
   "cell_type": "code",
   "source": [
    "loss.backward()\n",
    "\n",
    "print(w1.grad)\n",
    "print(b.grad)"
   ],
   "id": "175c6ddc08322c51",
   "outputs": [
    {
     "name": "stdout",
     "output_type": "stream",
     "text": [
      "tensor([-0.0898])\n",
      "tensor([-0.0817])\n"
     ]
    }
   ],
   "execution_count": 21
  },
  {
   "metadata": {
    "ExecuteTime": {
     "end_time": "2025-09-17T13:14:25.100886Z",
     "start_time": "2025-09-17T13:14:25.088223Z"
    }
   },
   "cell_type": "code",
   "source": [
    "class NeuralNetwork(torch.nn.Module):\n",
    "    def __init__(self, num_inputs, num_outputs):\n",
    "        super().__init__()\n",
    "\n",
    "        self.layers = torch.nn.Sequential(\n",
    "            torch.nn.Linear(num_inputs, 30),\n",
    "            torch.nn.ReLU(),\n",
    "\n",
    "            torch.nn.Linear(30, 20),\n",
    "            torch.nn.ReLU(),\n",
    "\n",
    "            torch.nn.Linear(20, num_outputs),\n",
    "        )\n",
    "    def forward(self, x):\n",
    "        logits = self.layers(x)\n",
    "        return logits"
   ],
   "id": "d62970d29b9005b5",
   "outputs": [],
   "execution_count": 23
  },
  {
   "metadata": {
    "ExecuteTime": {
     "end_time": "2025-09-17T13:14:26.717972Z",
     "start_time": "2025-09-17T13:14:26.692314Z"
    }
   },
   "cell_type": "code",
   "source": [
    "model = NeuralNetwork(50, 3)\n",
    "print(model)"
   ],
   "id": "1065de3cfa373d41",
   "outputs": [
    {
     "name": "stdout",
     "output_type": "stream",
     "text": [
      "NeuralNetwork(\n",
      "  (layers): Sequential(\n",
      "    (0): Linear(in_features=50, out_features=30, bias=True)\n",
      "    (1): ReLU()\n",
      "    (2): Linear(in_features=30, out_features=20, bias=True)\n",
      "    (3): ReLU()\n",
      "    (4): Linear(in_features=20, out_features=3, bias=True)\n",
      "  )\n",
      ")\n"
     ]
    }
   ],
   "execution_count": 24
  },
  {
   "metadata": {
    "ExecuteTime": {
     "end_time": "2025-09-17T13:17:04.960261Z",
     "start_time": "2025-09-17T13:17:04.943263Z"
    }
   },
   "cell_type": "code",
   "source": [
    "num_params = sum(p.numel() for p in model.parameters() if p.requires_grad)\n",
    "print(\"total number of parameters: {}\".format(num_params))"
   ],
   "id": "8107c474a5bb20d1",
   "outputs": [
    {
     "name": "stdout",
     "output_type": "stream",
     "text": [
      "total number of parameters: 2213\n"
     ]
    }
   ],
   "execution_count": 25
  },
  {
   "metadata": {
    "ExecuteTime": {
     "end_time": "2025-09-17T13:18:19.146072Z",
     "start_time": "2025-09-17T13:18:19.116801Z"
    }
   },
   "cell_type": "code",
   "source": "print(model.layers[0].weight)",
   "id": "3d9ada0a8a52b311",
   "outputs": [
    {
     "name": "stdout",
     "output_type": "stream",
     "text": [
      "Parameter containing:\n",
      "tensor([[ 0.1015, -0.0857, -0.1257,  ..., -0.0539,  0.0374,  0.0141],\n",
      "        [ 0.1219,  0.0175,  0.0456,  ...,  0.1173,  0.1406, -0.1370],\n",
      "        [-0.0168,  0.0841,  0.0817,  ...,  0.0731,  0.0398,  0.0958],\n",
      "        ...,\n",
      "        [-0.1079,  0.0787,  0.0681,  ...,  0.0674,  0.0705, -0.1261],\n",
      "        [ 0.0134,  0.0019, -0.0300,  ..., -0.0851, -0.1235, -0.0402],\n",
      "        [-0.0540, -0.0823, -0.0700,  ..., -0.0796,  0.1388, -0.0054]],\n",
      "       requires_grad=True)\n"
     ]
    }
   ],
   "execution_count": 26
  },
  {
   "metadata": {
    "ExecuteTime": {
     "end_time": "2025-09-17T13:19:27.778491Z",
     "start_time": "2025-09-17T13:19:27.749471Z"
    }
   },
   "cell_type": "code",
   "source": [
    "torch.manual_seed(123)\n",
    "\n",
    "model = NeuralNetwork(50, 3)\n",
    "print(model.layers[0].weight)"
   ],
   "id": "951fefe1ec11a5da",
   "outputs": [
    {
     "name": "stdout",
     "output_type": "stream",
     "text": [
      "Parameter containing:\n",
      "tensor([[-0.0577,  0.0047, -0.0702,  ...,  0.0222,  0.1260,  0.0865],\n",
      "        [ 0.0502,  0.0307,  0.0333,  ...,  0.0951,  0.1134, -0.0297],\n",
      "        [ 0.1077, -0.1108,  0.0122,  ...,  0.0108, -0.1049, -0.1063],\n",
      "        ...,\n",
      "        [-0.0787,  0.1259,  0.0803,  ...,  0.1218,  0.1303, -0.1351],\n",
      "        [ 0.1359,  0.0175, -0.0673,  ...,  0.0674,  0.0676,  0.1058],\n",
      "        [ 0.0790,  0.1343, -0.0293,  ...,  0.0344, -0.0971, -0.0509]],\n",
      "       requires_grad=True)\n"
     ]
    }
   ],
   "execution_count": 27
  },
  {
   "metadata": {
    "ExecuteTime": {
     "end_time": "2025-09-17T13:20:49.003400Z",
     "start_time": "2025-09-17T13:20:49.000222Z"
    }
   },
   "cell_type": "code",
   "source": "print(model.layers[0].weight.shape)",
   "id": "9529d40a41c48526",
   "outputs": [
    {
     "name": "stdout",
     "output_type": "stream",
     "text": [
      "torch.Size([30, 50])\n"
     ]
    }
   ],
   "execution_count": 33
  },
  {
   "metadata": {
    "ExecuteTime": {
     "end_time": "2025-09-17T13:22:11.544722Z",
     "start_time": "2025-09-17T13:22:11.524515Z"
    }
   },
   "cell_type": "code",
   "source": [
    "torch.manual_seed(123)\n",
    "\n",
    "X = torch.rand((1,50))\n",
    "out = model(X)\n",
    "print(out)"
   ],
   "id": "ac48021bdf24b2d",
   "outputs": [
    {
     "name": "stdout",
     "output_type": "stream",
     "text": [
      "tensor([[-0.1262,  0.1080, -0.1792]], grad_fn=<AddmmBackward0>)\n"
     ]
    }
   ],
   "execution_count": 39
  },
  {
   "metadata": {},
   "cell_type": "code",
   "outputs": [],
   "execution_count": null,
   "source": [
    "with torch.no_grad():\n",
    "    out = model(X)\n",
    "print(out)"
   ],
   "id": "77b1615d7a7f9971"
  }
 ],
 "metadata": {
  "kernelspec": {
   "display_name": "Python 3",
   "language": "python",
   "name": "python3"
  },
  "language_info": {
   "codemirror_mode": {
    "name": "ipython",
    "version": 2
   },
   "file_extension": ".py",
   "mimetype": "text/x-python",
   "name": "python",
   "nbconvert_exporter": "python",
   "pygments_lexer": "ipython2",
   "version": "2.7.6"
  }
 },
 "nbformat": 4,
 "nbformat_minor": 5
}
