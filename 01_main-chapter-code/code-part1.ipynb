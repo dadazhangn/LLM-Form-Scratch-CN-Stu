{
 "cells": [
  {
   "cell_type": "code",
   "id": "initial_id",
   "metadata": {
    "collapsed": true,
    "ExecuteTime": {
     "end_time": "2025-09-18T12:26:14.538552Z",
     "start_time": "2025-09-18T12:26:13.291300Z"
    }
   },
   "source": [
    "import torch\n",
    "import numpy as np\n",
    "from sympy import shape\n",
    "from torch.ao.quantization.backend_config.native import weight_only_quint8_dtype_config\n",
    "\n",
    "# 创建一个零维张量\n",
    "tensor0d = torch.tensor(1)\n",
    "# 创建一个一维张量\n",
    "tensor1d = torch.tensor([1,2,3])\n",
    "# 创建一个二维张量\n",
    "tensor2d = torch.tensor([[1,2],\n",
    "                         [3,4]])\n",
    "# 创建一个三维张量\n",
    "tensor3d = torch.tensor([[[1,2],[3,4]],\n",
    "                         [[5,6],[7,8]]])\n",
    "ary3d = np.array([[[1,2],[3,4]],\n",
    "                         [[5,6],[7,8]]])\n",
    "\n",
    "tensor3d_2 = torch.tensor(ary3d)  # 复制 NumPy 数组\n",
    "tensor3d_3 = torch.from_numpy(ary3d)   # 与 NumPy 数组共享内存\n",
    "\n",
    "print(tensor3d_2, tensor3d_3)"
   ],
   "outputs": [
    {
     "name": "stdout",
     "output_type": "stream",
     "text": [
      "tensor([[[1, 2],\n",
      "         [3, 4]],\n",
      "\n",
      "        [[5, 6],\n",
      "         [7, 8]]]) tensor([[[1, 2],\n",
      "         [3, 4]],\n",
      "\n",
      "        [[5, 6],\n",
      "         [7, 8]]])\n"
     ]
    }
   ],
   "execution_count": 2
  },
  {
   "metadata": {
    "ExecuteTime": {
     "end_time": "2025-09-18T12:26:14.570218Z",
     "start_time": "2025-09-18T12:26:14.554315Z"
    }
   },
   "cell_type": "code",
   "source": [
    "ary3d[0,0,0] = 999\n",
    "print(tensor2d)"
   ],
   "id": "4fe5e3cb5931211a",
   "outputs": [
    {
     "name": "stdout",
     "output_type": "stream",
     "text": [
      "tensor([[1, 2],\n",
      "        [3, 4]])\n"
     ]
    }
   ],
   "execution_count": 3
  },
  {
   "metadata": {
    "ExecuteTime": {
     "end_time": "2025-09-18T12:26:14.617929Z",
     "start_time": "2025-09-18T12:26:14.602124Z"
    }
   },
   "cell_type": "code",
   "source": "print(tensor3d_3)",
   "id": "a37d7da45efe6def",
   "outputs": [
    {
     "name": "stdout",
     "output_type": "stream",
     "text": [
      "tensor([[[999,   2],\n",
      "         [  3,   4]],\n",
      "\n",
      "        [[  5,   6],\n",
      "         [  7,   8]]])\n"
     ]
    }
   ],
   "execution_count": 4
  },
  {
   "metadata": {
    "ExecuteTime": {
     "end_time": "2025-09-18T12:26:14.713530Z",
     "start_time": "2025-09-18T12:26:14.706029Z"
    }
   },
   "cell_type": "code",
   "source": [
    "tensorId = torch.tensor([1,2,3])\n",
    "print(tensorId.dtype)"
   ],
   "id": "72b3ac5514767bfe",
   "outputs": [
    {
     "name": "stdout",
     "output_type": "stream",
     "text": [
      "torch.int64\n"
     ]
    }
   ],
   "execution_count": 5
  },
  {
   "metadata": {
    "ExecuteTime": {
     "end_time": "2025-09-18T12:26:14.777788Z",
     "start_time": "2025-09-18T12:26:14.761546Z"
    }
   },
   "cell_type": "code",
   "source": [
    "floatvec = torch.tensor([1.0,2.0,3.0])\n",
    "print(floatvec.dtype)"
   ],
   "id": "fd73bfcac3915fb8",
   "outputs": [
    {
     "name": "stdout",
     "output_type": "stream",
     "text": [
      "torch.float32\n"
     ]
    }
   ],
   "execution_count": 6
  },
  {
   "metadata": {
    "ExecuteTime": {
     "end_time": "2025-09-18T12:26:14.826311Z",
     "start_time": "2025-09-18T12:26:14.793620Z"
    }
   },
   "cell_type": "code",
   "source": [
    "floatvec = tensorId.to(torch.float)\n",
    "print(floatvec.dtype)"
   ],
   "id": "8cb55b527e52f17c",
   "outputs": [
    {
     "name": "stdout",
     "output_type": "stream",
     "text": [
      "torch.float32\n"
     ]
    }
   ],
   "execution_count": 7
  },
  {
   "metadata": {
    "ExecuteTime": {
     "end_time": "2025-09-18T12:26:14.858042Z",
     "start_time": "2025-09-18T12:26:14.826311Z"
    }
   },
   "cell_type": "code",
   "source": [
    "tensor2d = torch.tensor([[1,2,3],[3,4,5]])\n",
    "tensor2d"
   ],
   "id": "95932dff092c4243",
   "outputs": [
    {
     "data": {
      "text/plain": [
       "tensor([[1, 2, 3],\n",
       "        [3, 4, 5]])"
      ]
     },
     "execution_count": 8,
     "metadata": {},
     "output_type": "execute_result"
    }
   ],
   "execution_count": 8
  },
  {
   "metadata": {
    "ExecuteTime": {
     "end_time": "2025-09-18T12:26:14.916374Z",
     "start_time": "2025-09-18T12:26:14.906319Z"
    }
   },
   "cell_type": "code",
   "source": "tensor2d.shape",
   "id": "85de4c493618d092",
   "outputs": [
    {
     "data": {
      "text/plain": [
       "torch.Size([2, 3])"
      ]
     },
     "execution_count": 9,
     "metadata": {},
     "output_type": "execute_result"
    }
   ],
   "execution_count": 9
  },
  {
   "metadata": {
    "ExecuteTime": {
     "end_time": "2025-09-18T12:26:15.050220Z",
     "start_time": "2025-09-18T12:26:15.029667Z"
    }
   },
   "cell_type": "code",
   "source": "tensor2d.reshape([3,2])",
   "id": "4ffcd14f1af57581",
   "outputs": [
    {
     "data": {
      "text/plain": [
       "tensor([[1, 2],\n",
       "        [3, 3],\n",
       "        [4, 5]])"
      ]
     },
     "execution_count": 10,
     "metadata": {},
     "output_type": "execute_result"
    }
   ],
   "execution_count": 10
  },
  {
   "metadata": {
    "ExecuteTime": {
     "end_time": "2025-09-18T12:26:15.736920Z",
     "start_time": "2025-09-18T12:26:15.716387Z"
    }
   },
   "cell_type": "code",
   "source": "tensor2d.view(3,2)",
   "id": "f421cb080ddf91b5",
   "outputs": [
    {
     "data": {
      "text/plain": [
       "tensor([[1, 2],\n",
       "        [3, 3],\n",
       "        [4, 5]])"
      ]
     },
     "execution_count": 11,
     "metadata": {},
     "output_type": "execute_result"
    }
   ],
   "execution_count": 11
  },
  {
   "metadata": {
    "ExecuteTime": {
     "end_time": "2025-09-18T12:26:16.219727Z",
     "start_time": "2025-09-18T12:26:16.198937Z"
    }
   },
   "cell_type": "code",
   "source": "tensor2d.T",
   "id": "24b34f215d28c9f8",
   "outputs": [
    {
     "data": {
      "text/plain": [
       "tensor([[1, 3],\n",
       "        [2, 4],\n",
       "        [3, 5]])"
      ]
     },
     "execution_count": 12,
     "metadata": {},
     "output_type": "execute_result"
    }
   ],
   "execution_count": 12
  },
  {
   "metadata": {
    "ExecuteTime": {
     "end_time": "2025-09-18T12:26:16.384079Z",
     "start_time": "2025-09-18T12:26:16.353141Z"
    }
   },
   "cell_type": "code",
   "source": "tensor2d.matmul(tensor2d.T)",
   "id": "ebbec212fbb14d59",
   "outputs": [
    {
     "data": {
      "text/plain": [
       "tensor([[14, 26],\n",
       "        [26, 50]])"
      ]
     },
     "execution_count": 13,
     "metadata": {},
     "output_type": "execute_result"
    }
   ],
   "execution_count": 13
  },
  {
   "metadata": {
    "ExecuteTime": {
     "end_time": "2025-09-18T12:26:16.622700Z",
     "start_time": "2025-09-18T12:26:16.613611Z"
    }
   },
   "cell_type": "code",
   "source": "tensor2d @ tensor2d.T",
   "id": "c044116d50f8fca7",
   "outputs": [
    {
     "data": {
      "text/plain": [
       "tensor([[14, 26],\n",
       "        [26, 50]])"
      ]
     },
     "execution_count": 14,
     "metadata": {},
     "output_type": "execute_result"
    }
   ],
   "execution_count": 14
  },
  {
   "metadata": {
    "ExecuteTime": {
     "end_time": "2025-09-18T12:26:16.796672Z",
     "start_time": "2025-09-18T12:26:16.772647Z"
    }
   },
   "cell_type": "code",
   "source": [
    "# 将模型视为计算图\n",
    "import torch.nn.functional as F\n",
    "\n",
    "y = torch.tensor([1.0])\n",
    "x1 = torch.tensor([1.1])\n",
    "w1 = torch.tensor([2.2])\n",
    "b = torch.tensor([0.0])\n",
    "\n",
    "z = x1 * w1 + b\n",
    "a = torch.sigmoid(z)\n",
    "\n",
    "loss = F.binary_cross_entropy(a,y)\n",
    "print(loss)"
   ],
   "id": "28b9c024db460d19",
   "outputs": [
    {
     "name": "stdout",
     "output_type": "stream",
     "text": [
      "tensor(0.0852)\n"
     ]
    }
   ],
   "execution_count": 15
  },
  {
   "metadata": {
    "ExecuteTime": {
     "end_time": "2025-09-18T12:26:17.019777Z",
     "start_time": "2025-09-18T12:26:16.937623Z"
    }
   },
   "cell_type": "code",
   "source": [
    "# A.4 轻松实现自动微分\n",
    "import torch.nn.functional as F\n",
    "from torch.autograd import grad, backward\n",
    "\n",
    "y = torch.tensor([1.0])\n",
    "x1 = torch.tensor([1.1])\n",
    "w1 = torch.tensor([2.2], requires_grad = True)\n",
    "b = torch.tensor([0.0], requires_grad = True)\n",
    "\n",
    "z = x1 * w1 + b\n",
    "a = torch.sigmoid(z)\n",
    "\n",
    "loss = F.binary_cross_entropy(a, y)\n",
    "\n",
    "gard_L_w1 = grad(loss, w1, retain_graph=True)\n",
    "grad_L_b = grad(loss, b, retain_graph=True)\n",
    "\n",
    "print(gard_L_w1)\n",
    "print(grad_L_b)"
   ],
   "id": "b718e19e2f315a9c",
   "outputs": [
    {
     "name": "stdout",
     "output_type": "stream",
     "text": [
      "(tensor([-0.0898]),)\n",
      "(tensor([-0.0817]),)\n"
     ]
    }
   ],
   "execution_count": 16
  },
  {
   "metadata": {
    "ExecuteTime": {
     "end_time": "2025-09-18T12:26:17.059417Z",
     "start_time": "2025-09-18T12:26:17.049238Z"
    }
   },
   "cell_type": "code",
   "source": [
    "loss.backward()\n",
    "\n",
    "print(w1.grad)\n",
    "print(b.grad)"
   ],
   "id": "175c6ddc08322c51",
   "outputs": [
    {
     "name": "stdout",
     "output_type": "stream",
     "text": [
      "tensor([-0.0898])\n",
      "tensor([-0.0817])\n"
     ]
    }
   ],
   "execution_count": 17
  },
  {
   "metadata": {
    "ExecuteTime": {
     "end_time": "2025-09-18T12:26:17.121500Z",
     "start_time": "2025-09-18T12:26:17.111352Z"
    }
   },
   "cell_type": "code",
   "source": [
    "class NeuralNetwork(torch.nn.Module):\n",
    "    def __init__(self, num_inputs, num_outputs):\n",
    "        super().__init__()\n",
    "\n",
    "        self.layers = torch.nn.Sequential(\n",
    "            torch.nn.Linear(num_inputs, 30),\n",
    "            torch.nn.ReLU(),\n",
    "\n",
    "            torch.nn.Linear(30, 20),\n",
    "            torch.nn.ReLU(),\n",
    "\n",
    "            torch.nn.Linear(20, num_outputs),\n",
    "        )\n",
    "    def forward(self, x):\n",
    "        logits = self.layers(x)\n",
    "        return logits"
   ],
   "id": "d62970d29b9005b5",
   "outputs": [],
   "execution_count": 18
  },
  {
   "metadata": {
    "ExecuteTime": {
     "end_time": "2025-09-18T12:26:17.136733Z",
     "start_time": "2025-09-18T12:26:17.126375Z"
    }
   },
   "cell_type": "code",
   "source": [
    "model = NeuralNetwork(50, 3)\n",
    "print(model)"
   ],
   "id": "1065de3cfa373d41",
   "outputs": [
    {
     "name": "stdout",
     "output_type": "stream",
     "text": [
      "NeuralNetwork(\n",
      "  (layers): Sequential(\n",
      "    (0): Linear(in_features=50, out_features=30, bias=True)\n",
      "    (1): ReLU()\n",
      "    (2): Linear(in_features=30, out_features=20, bias=True)\n",
      "    (3): ReLU()\n",
      "    (4): Linear(in_features=20, out_features=3, bias=True)\n",
      "  )\n",
      ")\n"
     ]
    }
   ],
   "execution_count": 19
  },
  {
   "metadata": {
    "ExecuteTime": {
     "end_time": "2025-09-18T12:26:17.201701Z",
     "start_time": "2025-09-18T12:26:17.191389Z"
    }
   },
   "cell_type": "code",
   "source": [
    "num_params = sum(p.numel() for p in model.parameters() if p.requires_grad)\n",
    "print(\"total number of parameters: {}\".format(num_params))"
   ],
   "id": "8107c474a5bb20d1",
   "outputs": [
    {
     "name": "stdout",
     "output_type": "stream",
     "text": [
      "total number of parameters: 2213\n"
     ]
    }
   ],
   "execution_count": 20
  },
  {
   "metadata": {
    "ExecuteTime": {
     "end_time": "2025-09-18T12:26:17.238307Z",
     "start_time": "2025-09-18T12:26:17.227886Z"
    }
   },
   "cell_type": "code",
   "source": "print(model.layers[0].weight)",
   "id": "3d9ada0a8a52b311",
   "outputs": [
    {
     "name": "stdout",
     "output_type": "stream",
     "text": [
      "Parameter containing:\n",
      "tensor([[-0.0260,  0.0368,  0.1279,  ..., -0.1141,  0.1387,  0.0017],\n",
      "        [-0.0841,  0.0257, -0.0987,  ...,  0.0104,  0.1334, -0.0606],\n",
      "        [-0.0807,  0.1149, -0.0630,  ..., -0.0830, -0.0037,  0.0851],\n",
      "        ...,\n",
      "        [ 0.1366, -0.1074,  0.1048,  ...,  0.0791, -0.0224,  0.0099],\n",
      "        [ 0.1351, -0.1118,  0.1177,  ..., -0.0460, -0.1022, -0.0100],\n",
      "        [ 0.0517,  0.0669,  0.1264,  ...,  0.1149, -0.0658,  0.0326]],\n",
      "       requires_grad=True)\n"
     ]
    }
   ],
   "execution_count": 21
  },
  {
   "metadata": {
    "ExecuteTime": {
     "end_time": "2025-09-18T12:26:17.301424Z",
     "start_time": "2025-09-18T12:26:17.281246Z"
    }
   },
   "cell_type": "code",
   "source": [
    "torch.manual_seed(123)\n",
    "\n",
    "model = NeuralNetwork(50, 3)\n",
    "print(model.layers[0].weight)"
   ],
   "id": "951fefe1ec11a5da",
   "outputs": [
    {
     "name": "stdout",
     "output_type": "stream",
     "text": [
      "Parameter containing:\n",
      "tensor([[-0.0577,  0.0047, -0.0702,  ...,  0.0222,  0.1260,  0.0865],\n",
      "        [ 0.0502,  0.0307,  0.0333,  ...,  0.0951,  0.1134, -0.0297],\n",
      "        [ 0.1077, -0.1108,  0.0122,  ...,  0.0108, -0.1049, -0.1063],\n",
      "        ...,\n",
      "        [-0.0787,  0.1259,  0.0803,  ...,  0.1218,  0.1303, -0.1351],\n",
      "        [ 0.1359,  0.0175, -0.0673,  ...,  0.0674,  0.0676,  0.1058],\n",
      "        [ 0.0790,  0.1343, -0.0293,  ...,  0.0344, -0.0971, -0.0509]],\n",
      "       requires_grad=True)\n"
     ]
    }
   ],
   "execution_count": 22
  },
  {
   "metadata": {
    "ExecuteTime": {
     "end_time": "2025-09-18T12:26:17.368787Z",
     "start_time": "2025-09-18T12:26:17.358755Z"
    }
   },
   "cell_type": "code",
   "source": "print(model.layers[0].weight.shape)",
   "id": "9529d40a41c48526",
   "outputs": [
    {
     "name": "stdout",
     "output_type": "stream",
     "text": [
      "torch.Size([30, 50])\n"
     ]
    }
   ],
   "execution_count": 23
  },
  {
   "metadata": {
    "ExecuteTime": {
     "end_time": "2025-09-18T12:26:17.454387Z",
     "start_time": "2025-09-18T12:26:17.433963Z"
    }
   },
   "cell_type": "code",
   "source": [
    "torch.manual_seed(123)\n",
    "\n",
    "X = torch.rand((1,50))\n",
    "out = model(X)\n",
    "print(out)"
   ],
   "id": "ac48021bdf24b2d",
   "outputs": [
    {
     "name": "stdout",
     "output_type": "stream",
     "text": [
      "tensor([[-0.1262,  0.1080, -0.1792]], grad_fn=<AddmmBackward0>)\n"
     ]
    }
   ],
   "execution_count": 24
  },
  {
   "metadata": {
    "ExecuteTime": {
     "end_time": "2025-09-18T12:26:17.518150Z",
     "start_time": "2025-09-18T12:26:17.507638Z"
    }
   },
   "cell_type": "code",
   "source": [
    "with torch.no_grad():\n",
    "    out = model(X)\n",
    "print(out)"
   ],
   "id": "77b1615d7a7f9971",
   "outputs": [
    {
     "name": "stdout",
     "output_type": "stream",
     "text": [
      "tensor([[-0.1262,  0.1080, -0.1792]])\n"
     ]
    }
   ],
   "execution_count": 25
  },
  {
   "metadata": {
    "ExecuteTime": {
     "end_time": "2025-09-18T12:26:17.577658Z",
     "start_time": "2025-09-18T12:26:17.568926Z"
    }
   },
   "cell_type": "code",
   "source": [
    "with torch.no_grad():\n",
    "    out = torch.softmax(model(X), dim=1)\n",
    "print(out)"
   ],
   "id": "39f83a34fa0bbbd4",
   "outputs": [
    {
     "name": "stdout",
     "output_type": "stream",
     "text": [
      "tensor([[0.3113, 0.3934, 0.2952]])\n"
     ]
    }
   ],
   "execution_count": 26
  },
  {
   "metadata": {
    "ExecuteTime": {
     "end_time": "2025-09-18T12:26:17.630942Z",
     "start_time": "2025-09-18T12:26:17.620774Z"
    }
   },
   "cell_type": "code",
   "source": [
    "# 设置高效的数据加载器\n",
    "X_train = torch.tensor([\n",
    "    [-1.2, 3.1],\n",
    "    [-0.9, 2.9],\n",
    "    [-0.5, 2.6],\n",
    "    [2.3, -1.1],\n",
    "    [2.7, -1.5]\n",
    "])\n",
    "Y_train = torch.tensor([0,0,0,1,1])"
   ],
   "id": "d9bba993681e6a50",
   "outputs": [],
   "execution_count": 27
  },
  {
   "metadata": {
    "ExecuteTime": {
     "end_time": "2025-09-18T12:26:17.646808Z",
     "start_time": "2025-09-18T12:26:17.636621Z"
    }
   },
   "cell_type": "code",
   "source": [
    "X_test = torch.tensor([\n",
    "    [-0.8, 2.8],\n",
    "    [2.6, -1.6]\n",
    "])\n",
    "Y_test = torch.tensor([0,1])"
   ],
   "id": "4a425606e35bdfbb",
   "outputs": [],
   "execution_count": 28
  },
  {
   "metadata": {
    "ExecuteTime": {
     "end_time": "2025-09-18T12:26:17.663297Z",
     "start_time": "2025-09-18T12:26:17.652752Z"
    }
   },
   "cell_type": "code",
   "source": [
    "from torch.utils.data import DataLoader, Dataset\n",
    "\n",
    "\n",
    "class ToyDataset(Dataset):\n",
    "    def __init__(self, X, Y):\n",
    "        self.features = X\n",
    "        self.labels = Y\n",
    "\n",
    "    def __getitem__(self, index):\n",
    "        one_x = self.features[index]\n",
    "        one_y = self.labels[index]\n",
    "        return one_x, one_y\n",
    "\n",
    "    def __len__(self):\n",
    "        return self.labels.shape[0]\n",
    "\n",
    "train_ds = ToyDataset(X_train, Y_train)\n",
    "test_ds = ToyDataset(X_test, Y_test)"
   ],
   "id": "2e8eea36d11dfa45",
   "outputs": [],
   "execution_count": 29
  },
  {
   "metadata": {
    "ExecuteTime": {
     "end_time": "2025-09-18T12:26:17.705504Z",
     "start_time": "2025-09-18T12:26:17.695085Z"
    }
   },
   "cell_type": "code",
   "source": "len(train_ds)",
   "id": "3e3ec75edfa66bf9",
   "outputs": [
    {
     "data": {
      "text/plain": [
       "5"
      ]
     },
     "execution_count": 30,
     "metadata": {},
     "output_type": "execute_result"
    }
   ],
   "execution_count": 30
  },
  {
   "metadata": {
    "ExecuteTime": {
     "end_time": "2025-09-18T12:26:17.740807Z",
     "start_time": "2025-09-18T12:26:17.730488Z"
    }
   },
   "cell_type": "code",
   "source": [
    "from torch.utils.data import DataLoader\n",
    "\n",
    "torch.manual_seed(123)\n",
    "\n",
    "train_loader = DataLoader(\n",
    "    dataset=train_ds,\n",
    "    batch_size=2,\n",
    "    shuffle=True,\n",
    "    num_workers=0\n",
    ")\n",
    "\n",
    "\n",
    "test_loader = DataLoader(\n",
    "    dataset=test_ds,\n",
    "    batch_size=2,\n",
    "    shuffle=False,\n",
    "    num_workers=0\n",
    ")"
   ],
   "id": "b51a288b8481a652",
   "outputs": [],
   "execution_count": 31
  },
  {
   "metadata": {
    "ExecuteTime": {
     "end_time": "2025-09-18T12:26:17.778941Z",
     "start_time": "2025-09-18T12:26:17.758168Z"
    }
   },
   "cell_type": "code",
   "source": [
    "for idx, (x, y) in enumerate(train_loader):\n",
    "    print(f\"Batch {idx+1}\", x, y)"
   ],
   "id": "a836924d4f92daed",
   "outputs": [
    {
     "name": "stdout",
     "output_type": "stream",
     "text": [
      "Batch 1 tensor([[ 2.3000, -1.1000],\n",
      "        [-0.9000,  2.9000]]) tensor([1, 0])\n",
      "Batch 2 tensor([[-1.2000,  3.1000],\n",
      "        [-0.5000,  2.6000]]) tensor([0, 0])\n",
      "Batch 3 tensor([[ 2.7000, -1.5000]]) tensor([1])\n"
     ]
    }
   ],
   "execution_count": 32
  },
  {
   "metadata": {
    "ExecuteTime": {
     "end_time": "2025-09-18T12:26:17.847548Z",
     "start_time": "2025-09-18T12:26:17.837115Z"
    }
   },
   "cell_type": "code",
   "source": [
    "train_loader = DataLoader(\n",
    "    dataset=train_ds,\n",
    "    batch_size=2,\n",
    "    shuffle=True,\n",
    "    num_workers=0,\n",
    "    drop_last=True\n",
    ")"
   ],
   "id": "5427e707b96aab21",
   "outputs": [],
   "execution_count": 33
  },
  {
   "metadata": {
    "ExecuteTime": {
     "end_time": "2025-09-18T12:26:17.869299Z",
     "start_time": "2025-09-18T12:26:17.859054Z"
    }
   },
   "cell_type": "code",
   "source": [
    "for idx, (x, y) in enumerate(train_loader):\n",
    "    print(f\"Batch {idx+1}\", x, y)"
   ],
   "id": "fa318e3c2d59ed05",
   "outputs": [
    {
     "name": "stdout",
     "output_type": "stream",
     "text": [
      "Batch 1 tensor([[-1.2000,  3.1000],\n",
      "        [-0.5000,  2.6000]]) tensor([0, 0])\n",
      "Batch 2 tensor([[ 2.3000, -1.1000],\n",
      "        [-0.9000,  2.9000]]) tensor([1, 0])\n"
     ]
    }
   ],
   "execution_count": 34
  },
  {
   "metadata": {
    "ExecuteTime": {
     "end_time": "2025-09-18T12:33:43.829523Z",
     "start_time": "2025-09-18T12:33:43.798013Z"
    }
   },
   "cell_type": "code",
   "source": [
    "# A.7 典型的训练循环\n",
    "\n",
    "import torch.nn.functional as F\n",
    "\n",
    "torch.manual_seed(123)\n",
    "model = NeuralNetwork(num_inputs=2, num_outputs=2)\n",
    "optimizer = torch.optim.SGD(model.parameters(), lr=0.5)\n",
    "\n",
    "num_epochs = 3\n",
    "\n",
    "for epoch in range(num_epochs):\n",
    "    model.train()\n",
    "    for batch_idx, (features, labels) in enumerate(train_loader):\n",
    "        logits = model(features)\n",
    "        loss = F.cross_entropy(logits, labels)\n",
    "        optimizer.zero_grad()\n",
    "        loss.backward()\n",
    "        optimizer.step()\n",
    "\n",
    "#         日志\n",
    "        print(f\"Epoch: {epoch+1:03d}/{num_epochs:03d}\"\n",
    "              f\" | Batch {batch_idx+1:03d}/{len(train_loader):03d}\"\n",
    "              f\" | Train/Val Loss: {loss:.2f}\")\n",
    "model.eval()\n"
   ],
   "id": "e873acd1cd5358ef",
   "outputs": [
    {
     "name": "stdout",
     "output_type": "stream",
     "text": [
      "Epoch: 001/003 | Batch 001/002 | Train/Val Loss: 0.75\n",
      "Epoch: 001/003 | Batch 002/002 | Train/Val Loss: 0.65\n",
      "Epoch: 002/003 | Batch 001/002 | Train/Val Loss: 0.44\n",
      "Epoch: 002/003 | Batch 002/002 | Train/Val Loss: 0.13\n",
      "Epoch: 003/003 | Batch 001/002 | Train/Val Loss: 0.03\n",
      "Epoch: 003/003 | Batch 002/002 | Train/Val Loss: 0.00\n"
     ]
    },
    {
     "data": {
      "text/plain": [
       "NeuralNetwork(\n",
       "  (layers): Sequential(\n",
       "    (0): Linear(in_features=2, out_features=30, bias=True)\n",
       "    (1): ReLU()\n",
       "    (2): Linear(in_features=30, out_features=20, bias=True)\n",
       "    (3): ReLU()\n",
       "    (4): Linear(in_features=20, out_features=2, bias=True)\n",
       "  )\n",
       ")"
      ]
     },
     "execution_count": 36,
     "metadata": {},
     "output_type": "execute_result"
    }
   ],
   "execution_count": 36
  },
  {
   "metadata": {
    "ExecuteTime": {
     "end_time": "2025-09-18T12:39:09.606073Z",
     "start_time": "2025-09-18T12:39:09.589981Z"
    }
   },
   "cell_type": "code",
   "source": [
    "with torch.no_grad():\n",
    "    outputs = model(X_train)\n",
    "print(outputs)"
   ],
   "id": "ff58aa3ddcf28047",
   "outputs": [
    {
     "name": "stdout",
     "output_type": "stream",
     "text": [
      "tensor([[ 2.8569, -4.1618],\n",
      "        [ 2.5382, -3.7548],\n",
      "        [ 2.0944, -3.1820],\n",
      "        [-1.4814,  1.4816],\n",
      "        [-1.7176,  1.7342]])\n"
     ]
    }
   ],
   "execution_count": 44
  },
  {
   "metadata": {
    "ExecuteTime": {
     "end_time": "2025-09-18T12:39:10.874373Z",
     "start_time": "2025-09-18T12:39:10.866398Z"
    }
   },
   "cell_type": "code",
   "source": [
    "torch.set_printoptions(sci_mode=False)\n",
    "probas = torch.softmax(outputs, dim=1)\n",
    "print(probas)\n",
    "\n",
    "predictions = torch.argmax(probas,dim=1)\n",
    "print(predictions)"
   ],
   "id": "f1426d3255e2d4a5",
   "outputs": [
    {
     "name": "stdout",
     "output_type": "stream",
     "text": [
      "tensor([[    0.9991,     0.0009],\n",
      "        [    0.9982,     0.0018],\n",
      "        [    0.9949,     0.0051],\n",
      "        [    0.0491,     0.9509],\n",
      "        [    0.0307,     0.9693]])\n",
      "tensor([0, 0, 0, 1, 1])\n"
     ]
    }
   ],
   "execution_count": 45
  },
  {
   "metadata": {
    "ExecuteTime": {
     "end_time": "2025-09-18T12:40:24.159157Z",
     "start_time": "2025-09-18T12:40:24.143182Z"
    }
   },
   "cell_type": "code",
   "source": [
    "predictions = torch.argmax(outputs, dim=1)\n",
    "print(predictions)"
   ],
   "id": "7cc1a0e057af990d",
   "outputs": [
    {
     "name": "stdout",
     "output_type": "stream",
     "text": [
      "tensor([0, 0, 0, 1, 1])\n"
     ]
    }
   ],
   "execution_count": 46
  },
  {
   "metadata": {
    "ExecuteTime": {
     "end_time": "2025-09-18T12:40:48.902526Z",
     "start_time": "2025-09-18T12:40:48.886469Z"
    }
   },
   "cell_type": "code",
   "source": "predictions == Y_train",
   "id": "ec3757b9ab1fdde4",
   "outputs": [
    {
     "data": {
      "text/plain": [
       "tensor([True, True, True, True, True])"
      ]
     },
     "execution_count": 47,
     "metadata": {},
     "output_type": "execute_result"
    }
   ],
   "execution_count": 47
  },
  {
   "metadata": {
    "ExecuteTime": {
     "end_time": "2025-09-18T12:41:11.279558Z",
     "start_time": "2025-09-18T12:41:11.269075Z"
    }
   },
   "cell_type": "code",
   "source": "torch.sum(predictions == Y_train)",
   "id": "d5b22e1e2b688535",
   "outputs": [
    {
     "data": {
      "text/plain": [
       "tensor(5)"
      ]
     },
     "execution_count": 48,
     "metadata": {},
     "output_type": "execute_result"
    }
   ],
   "execution_count": 48
  },
  {
   "metadata": {
    "ExecuteTime": {
     "end_time": "2025-09-18T12:45:37.641653Z",
     "start_time": "2025-09-18T12:45:37.625647Z"
    }
   },
   "cell_type": "code",
   "source": [
    "def compute_accuracy(model, dataloader):\n",
    "    model = model.eval()\n",
    "    correct = 0\n",
    "    total_examples = 0\n",
    "\n",
    "    for idx, (features, labels) in enumerate(dataloader):\n",
    "        with torch.no_grad():\n",
    "            logits = model(features)\n",
    "        predictions = torch.argmax(logits, dim=1)\n",
    "        compare = labels == predictions\n",
    "        correct += torch.sum(compare)\n",
    "        total_examples += len(compare)\n",
    "    return (correct / total_examples).item()"
   ],
   "id": "5617e595b2da7bf0",
   "outputs": [],
   "execution_count": 50
  },
  {
   "metadata": {
    "ExecuteTime": {
     "end_time": "2025-09-18T12:45:38.948638Z",
     "start_time": "2025-09-18T12:45:38.933042Z"
    }
   },
   "cell_type": "code",
   "source": "compute_accuracy(model, train_loader)",
   "id": "17f3c7301ddcb1c9",
   "outputs": [
    {
     "data": {
      "text/plain": [
       "1.0"
      ]
     },
     "execution_count": 51,
     "metadata": {},
     "output_type": "execute_result"
    }
   ],
   "execution_count": 51
  },
  {
   "metadata": {
    "ExecuteTime": {
     "end_time": "2025-09-18T12:45:49.276542Z",
     "start_time": "2025-09-18T12:45:49.266318Z"
    }
   },
   "cell_type": "code",
   "source": "compute_accuracy(model, test_loader)",
   "id": "301730f4b4d90af2",
   "outputs": [
    {
     "data": {
      "text/plain": [
       "1.0"
      ]
     },
     "execution_count": 52,
     "metadata": {},
     "output_type": "execute_result"
    }
   ],
   "execution_count": 52
  },
  {
   "metadata": {},
   "cell_type": "code",
   "outputs": [],
   "execution_count": null,
   "source": "# A.8 保存和加载模型",
   "id": "84b0a8a47c3a20ae"
  },
  {
   "metadata": {
    "ExecuteTime": {
     "end_time": "2025-09-18T12:47:48.209267Z",
     "start_time": "2025-09-18T12:47:48.196299Z"
    }
   },
   "cell_type": "code",
   "source": [
    "torch.save(model.state_dict(), \"model.pth\")\n",
    "\n"
   ],
   "id": "55637c785d0c2afb",
   "outputs": [],
   "execution_count": 53
  },
  {
   "metadata": {
    "ExecuteTime": {
     "end_time": "2025-09-18T12:48:30.673988Z",
     "start_time": "2025-09-18T12:48:30.641863Z"
    }
   },
   "cell_type": "code",
   "source": [
    "model = NeuralNetwork(2,2)\n",
    "model.load_state_dict(torch.load(\"model.pth\"))"
   ],
   "id": "11614a8e811c66a2",
   "outputs": [
    {
     "data": {
      "text/plain": [
       "<All keys matched successfully>"
      ]
     },
     "execution_count": 57,
     "metadata": {},
     "output_type": "execute_result"
    }
   ],
   "execution_count": 57
  }
 ],
 "metadata": {
  "kernelspec": {
   "display_name": "Python 3",
   "language": "python",
   "name": "python3"
  },
  "language_info": {
   "codemirror_mode": {
    "name": "ipython",
    "version": 2
   },
   "file_extension": ".py",
   "mimetype": "text/x-python",
   "name": "python",
   "nbconvert_exporter": "python",
   "pygments_lexer": "ipython2",
   "version": "2.7.6"
  }
 },
 "nbformat": 4,
 "nbformat_minor": 5
}
